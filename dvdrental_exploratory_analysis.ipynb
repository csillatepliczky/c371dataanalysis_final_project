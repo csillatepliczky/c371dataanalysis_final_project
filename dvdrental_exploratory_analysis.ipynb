{
 "cells": [
  {
   "cell_type": "code",
   "execution_count": 1,
   "metadata": {},
   "outputs": [],
   "source": [
    "import psycopg2 as pg2\n",
    "import pandas as pd\n",
    "import numpy as np"
   ]
  },
  {
   "cell_type": "code",
   "execution_count": 2,
   "metadata": {},
   "outputs": [],
   "source": [
    "# Initializing connection to the cleaned database\n",
    "\n",
    "try:\n",
    "    conn = pg2.connect(database='dvdrental_cleaned', user='postgres', password='root')\n",
    "    cur = conn.cursor()\n",
    "except Exception as error:\n",
    "    print(\"Error while connecting to PostgreSQL\", error)"
   ]
  },
  {
   "cell_type": "code",
   "execution_count": 129,
   "metadata": {},
   "outputs": [
    {
     "name": "stderr",
     "output_type": "stream",
     "text": [
      "C:\\Users\\tepip\\AppData\\Local\\Temp\\ipykernel_11828\\2379716025.py:3: UserWarning: pandas only supports SQLAlchemy connectable (engine/connection) or database string URI or sqlite3 DBAPI2 connection. Other DBAPI2 objects are not tested. Please consider using SQLAlchemy.\n",
      "  movies = pd.read_sql('''SELECT f.film_id, f.title, f.release_year, f. replacement_cost, f.rental_rate, f.length, f.rating,\n"
     ]
    }
   ],
   "source": [
    "# Creating a dataframe containing information about the films and film categories\n",
    "\n",
    "movies = pd.read_sql('''SELECT f.film_id, f.title, f.release_year, f.replacement_cost, f.rental_rate, f.length, f.rating, \n",
    "                    c.name as category, l.name as language\n",
    "\t\t\t\t\tFROM film_cleaned f\n",
    "                     INNER JOIN film_category_cleaned fc\n",
    "                     ON f.film_id = fc.film_id\n",
    "                     INNER JOIN category_cleaned c\n",
    "                     ON fc.category_id = c.category_id\n",
    "                     INNER JOIN language_cleaned l\n",
    "                     ON l.language_id = f.language_id\n",
    "                     ;''', conn)"
   ]
  },
  {
   "cell_type": "code",
   "execution_count": 130,
   "metadata": {},
   "outputs": [
    {
     "data": {
      "text/plain": [
       "(1000, 9)"
      ]
     },
     "execution_count": 130,
     "metadata": {},
     "output_type": "execute_result"
    }
   ],
   "source": [
    "movies.shape"
   ]
  },
  {
   "cell_type": "code",
   "execution_count": 131,
   "metadata": {},
   "outputs": [
    {
     "data": {
      "text/html": [
       "<div>\n",
       "<style scoped>\n",
       "    .dataframe tbody tr th:only-of-type {\n",
       "        vertical-align: middle;\n",
       "    }\n",
       "\n",
       "    .dataframe tbody tr th {\n",
       "        vertical-align: top;\n",
       "    }\n",
       "\n",
       "    .dataframe thead th {\n",
       "        text-align: right;\n",
       "    }\n",
       "</style>\n",
       "<table border=\"1\" class=\"dataframe\">\n",
       "  <thead>\n",
       "    <tr style=\"text-align: right;\">\n",
       "      <th></th>\n",
       "      <th>film_id</th>\n",
       "      <th>title</th>\n",
       "      <th>release_year</th>\n",
       "      <th>replacement_cost</th>\n",
       "      <th>rental_rate</th>\n",
       "      <th>length</th>\n",
       "      <th>rating</th>\n",
       "      <th>category</th>\n",
       "      <th>language</th>\n",
       "    </tr>\n",
       "  </thead>\n",
       "  <tbody>\n",
       "    <tr>\n",
       "      <th>0</th>\n",
       "      <td>1</td>\n",
       "      <td>Academy Dinosaur</td>\n",
       "      <td>2006</td>\n",
       "      <td>20.99</td>\n",
       "      <td>0.99</td>\n",
       "      <td>86</td>\n",
       "      <td>PG</td>\n",
       "      <td>Documentary</td>\n",
       "      <td>English</td>\n",
       "    </tr>\n",
       "    <tr>\n",
       "      <th>1</th>\n",
       "      <td>2</td>\n",
       "      <td>Ace Goldfinger</td>\n",
       "      <td>2006</td>\n",
       "      <td>12.99</td>\n",
       "      <td>4.99</td>\n",
       "      <td>48</td>\n",
       "      <td>G</td>\n",
       "      <td>Horror</td>\n",
       "      <td>English</td>\n",
       "    </tr>\n",
       "    <tr>\n",
       "      <th>2</th>\n",
       "      <td>3</td>\n",
       "      <td>Adaptation Holes</td>\n",
       "      <td>2006</td>\n",
       "      <td>18.99</td>\n",
       "      <td>2.99</td>\n",
       "      <td>50</td>\n",
       "      <td>NC-17</td>\n",
       "      <td>Documentary</td>\n",
       "      <td>English</td>\n",
       "    </tr>\n",
       "    <tr>\n",
       "      <th>3</th>\n",
       "      <td>4</td>\n",
       "      <td>Affair Prejudice</td>\n",
       "      <td>2006</td>\n",
       "      <td>26.99</td>\n",
       "      <td>2.99</td>\n",
       "      <td>117</td>\n",
       "      <td>G</td>\n",
       "      <td>Horror</td>\n",
       "      <td>English</td>\n",
       "    </tr>\n",
       "    <tr>\n",
       "      <th>4</th>\n",
       "      <td>5</td>\n",
       "      <td>African Egg</td>\n",
       "      <td>2006</td>\n",
       "      <td>22.99</td>\n",
       "      <td>2.99</td>\n",
       "      <td>130</td>\n",
       "      <td>G</td>\n",
       "      <td>Family</td>\n",
       "      <td>English</td>\n",
       "    </tr>\n",
       "  </tbody>\n",
       "</table>\n",
       "</div>"
      ],
      "text/plain": [
       "   film_id             title  release_year  replacement_cost  rental_rate  \\\n",
       "0        1  Academy Dinosaur          2006             20.99         0.99   \n",
       "1        2    Ace Goldfinger          2006             12.99         4.99   \n",
       "2        3  Adaptation Holes          2006             18.99         2.99   \n",
       "3        4  Affair Prejudice          2006             26.99         2.99   \n",
       "4        5       African Egg          2006             22.99         2.99   \n",
       "\n",
       "   length rating     category              language  \n",
       "0      86     PG  Documentary  English               \n",
       "1      48      G       Horror  English               \n",
       "2      50  NC-17  Documentary  English               \n",
       "3     117      G       Horror  English               \n",
       "4     130      G       Family  English               "
      ]
     },
     "execution_count": 131,
     "metadata": {},
     "output_type": "execute_result"
    }
   ],
   "source": [
    "movies.head()"
   ]
  },
  {
   "cell_type": "code",
   "execution_count": 132,
   "metadata": {},
   "outputs": [
    {
     "name": "stdout",
     "output_type": "stream",
     "text": [
      "<class 'pandas.core.frame.DataFrame'>\n",
      "RangeIndex: 1000 entries, 0 to 999\n",
      "Data columns (total 9 columns):\n",
      " #   Column            Non-Null Count  Dtype  \n",
      "---  ------            --------------  -----  \n",
      " 0   film_id           1000 non-null   int64  \n",
      " 1   title             1000 non-null   object \n",
      " 2   release_year      1000 non-null   int64  \n",
      " 3   replacement_cost  1000 non-null   float64\n",
      " 4   rental_rate       1000 non-null   float64\n",
      " 5   length            1000 non-null   int64  \n",
      " 6   rating            1000 non-null   object \n",
      " 7   category          1000 non-null   object \n",
      " 8   language          1000 non-null   object \n",
      "dtypes: float64(2), int64(3), object(4)\n",
      "memory usage: 70.4+ KB\n"
     ]
    }
   ],
   "source": [
    "movies.info()"
   ]
  },
  {
   "cell_type": "code",
   "execution_count": 137,
   "metadata": {},
   "outputs": [
    {
     "data": {
      "text/plain": [
       "1000"
      ]
     },
     "execution_count": 137,
     "metadata": {},
     "output_type": "execute_result"
    }
   ],
   "source": [
    "movies['film_id'].nunique()"
   ]
  },
  {
   "cell_type": "code",
   "execution_count": 138,
   "metadata": {},
   "outputs": [
    {
     "data": {
      "text/plain": [
       "film_id             0\n",
       "title               0\n",
       "release_year        0\n",
       "replacement_cost    0\n",
       "rental_rate         0\n",
       "length              0\n",
       "rating              0\n",
       "category            0\n",
       "language            0\n",
       "dtype: int64"
      ]
     },
     "execution_count": 138,
     "metadata": {},
     "output_type": "execute_result"
    }
   ],
   "source": [
    "movies.isnull().sum()"
   ]
  },
  {
   "cell_type": "code",
   "execution_count": 139,
   "metadata": {},
   "outputs": [
    {
     "data": {
      "text/html": [
       "<div>\n",
       "<style scoped>\n",
       "    .dataframe tbody tr th:only-of-type {\n",
       "        vertical-align: middle;\n",
       "    }\n",
       "\n",
       "    .dataframe tbody tr th {\n",
       "        vertical-align: top;\n",
       "    }\n",
       "\n",
       "    .dataframe thead th {\n",
       "        text-align: right;\n",
       "    }\n",
       "</style>\n",
       "<table border=\"1\" class=\"dataframe\">\n",
       "  <thead>\n",
       "    <tr style=\"text-align: right;\">\n",
       "      <th></th>\n",
       "      <th>rental_rate</th>\n",
       "      <th>length</th>\n",
       "      <th>replacement_cost</th>\n",
       "    </tr>\n",
       "  </thead>\n",
       "  <tbody>\n",
       "    <tr>\n",
       "      <th>count</th>\n",
       "      <td>1000.000000</td>\n",
       "      <td>1000.000000</td>\n",
       "      <td>1000.000000</td>\n",
       "    </tr>\n",
       "    <tr>\n",
       "      <th>mean</th>\n",
       "      <td>2.980000</td>\n",
       "      <td>115.272000</td>\n",
       "      <td>19.984000</td>\n",
       "    </tr>\n",
       "    <tr>\n",
       "      <th>std</th>\n",
       "      <td>1.646393</td>\n",
       "      <td>40.426332</td>\n",
       "      <td>6.050833</td>\n",
       "    </tr>\n",
       "    <tr>\n",
       "      <th>min</th>\n",
       "      <td>0.990000</td>\n",
       "      <td>46.000000</td>\n",
       "      <td>9.990000</td>\n",
       "    </tr>\n",
       "    <tr>\n",
       "      <th>25%</th>\n",
       "      <td>0.990000</td>\n",
       "      <td>80.000000</td>\n",
       "      <td>14.990000</td>\n",
       "    </tr>\n",
       "    <tr>\n",
       "      <th>50%</th>\n",
       "      <td>2.990000</td>\n",
       "      <td>114.000000</td>\n",
       "      <td>19.990000</td>\n",
       "    </tr>\n",
       "    <tr>\n",
       "      <th>75%</th>\n",
       "      <td>4.990000</td>\n",
       "      <td>149.250000</td>\n",
       "      <td>24.990000</td>\n",
       "    </tr>\n",
       "    <tr>\n",
       "      <th>max</th>\n",
       "      <td>4.990000</td>\n",
       "      <td>185.000000</td>\n",
       "      <td>29.990000</td>\n",
       "    </tr>\n",
       "  </tbody>\n",
       "</table>\n",
       "</div>"
      ],
      "text/plain": [
       "       rental_rate       length  replacement_cost\n",
       "count  1000.000000  1000.000000       1000.000000\n",
       "mean      2.980000   115.272000         19.984000\n",
       "std       1.646393    40.426332          6.050833\n",
       "min       0.990000    46.000000          9.990000\n",
       "25%       0.990000    80.000000         14.990000\n",
       "50%       2.990000   114.000000         19.990000\n",
       "75%       4.990000   149.250000         24.990000\n",
       "max       4.990000   185.000000         29.990000"
      ]
     },
     "execution_count": 139,
     "metadata": {},
     "output_type": "execute_result"
    }
   ],
   "source": [
    "# Getting the descriptive statistics for the columns containing numeric values\n",
    "\n",
    "movies[['rental_rate', 'length', 'replacement_cost']].describe()"
   ]
  },
  {
   "cell_type": "code",
   "execution_count": 140,
   "metadata": {},
   "outputs": [
    {
     "data": {
      "text/plain": [
       "rating\n",
       "PG-13    223\n",
       "NC-17    210\n",
       "R        195\n",
       "PG       194\n",
       "G        178\n",
       "Name: count, dtype: int64"
      ]
     },
     "execution_count": 140,
     "metadata": {},
     "output_type": "execute_result"
    }
   ],
   "source": [
    "# Getting the value count for the different film ratings\n",
    "\n",
    "movies['rating'].value_counts().sort_values(ascending=False)"
   ]
  },
  {
   "cell_type": "code",
   "execution_count": 141,
   "metadata": {},
   "outputs": [
    {
     "data": {
      "text/plain": [
       "language\n",
       "English                 1000\n",
       "Name: count, dtype: int64"
      ]
     },
     "execution_count": 141,
     "metadata": {},
     "output_type": "execute_result"
    }
   ],
   "source": [
    "# Getting the value count for the different languages\n",
    "\n",
    "movies['language'].value_counts().sort_values(ascending=False)"
   ]
  },
  {
   "cell_type": "code",
   "execution_count": 142,
   "metadata": {},
   "outputs": [
    {
     "data": {
      "text/plain": [
       "category\n",
       "Sports         74\n",
       "Foreign        73\n",
       "Family         69\n",
       "Documentary    68\n",
       "Animation      66\n",
       "Action         64\n",
       "New            63\n",
       "Drama          62\n",
       "Sci-Fi         61\n",
       "Games          61\n",
       "Children       60\n",
       "Comedy         58\n",
       "Classics       57\n",
       "Travel         57\n",
       "Horror         56\n",
       "Music          51\n",
       "Name: count, dtype: int64"
      ]
     },
     "execution_count": 142,
     "metadata": {},
     "output_type": "execute_result"
    }
   ],
   "source": [
    "# Getting the value count for the different film genres\n",
    "\n",
    "movies['category'].value_counts().sort_values(ascending=False)"
   ]
  },
  {
   "cell_type": "code",
   "execution_count": 143,
   "metadata": {},
   "outputs": [
    {
     "data": {
      "text/plain": [
       "rental_rate\n",
       "0.99    341\n",
       "4.99    336\n",
       "2.99    323\n",
       "Name: count, dtype: int64"
      ]
     },
     "execution_count": 143,
     "metadata": {},
     "output_type": "execute_result"
    }
   ],
   "source": [
    "# Getting the value counts for the movies with the different rental rates\n",
    "\n",
    "movies['rental_rate'].value_counts().sort_values(ascending=False)"
   ]
  },
  {
   "cell_type": "code",
   "execution_count": 144,
   "metadata": {},
   "outputs": [
    {
     "data": {
      "text/plain": [
       "replacement_cost\n",
       "20.99    57\n",
       "22.99    55\n",
       "12.99    55\n",
       "21.99    55\n",
       "13.99    55\n",
       "27.99    53\n",
       "29.99    53\n",
       "14.99    51\n",
       "19.99    50\n",
       "11.99    49\n",
       "10.99    49\n",
       "17.99    47\n",
       "26.99    46\n",
       "23.99    45\n",
       "25.99    43\n",
       "18.99    42\n",
       "28.99    41\n",
       "9.99     41\n",
       "24.99    38\n",
       "16.99    38\n",
       "15.99    37\n",
       "Name: count, dtype: int64"
      ]
     },
     "execution_count": 144,
     "metadata": {},
     "output_type": "execute_result"
    }
   ],
   "source": [
    "# Getting the value counts for the movies with the different replacement costs\n",
    "\n",
    "movies['replacement_cost'].value_counts().sort_values(ascending=False)"
   ]
  },
  {
   "cell_type": "code",
   "execution_count": 145,
   "metadata": {},
   "outputs": [
    {
     "data": {
      "text/plain": [
       "length\n",
       "185    10\n",
       "184     8\n",
       "183     5\n",
       "182     6\n",
       "181    10\n",
       "       ..\n",
       "50      9\n",
       "49      5\n",
       "48     11\n",
       "47      7\n",
       "46      5\n",
       "Name: film_id, Length: 140, dtype: int64"
      ]
     },
     "execution_count": 145,
     "metadata": {},
     "output_type": "execute_result"
    }
   ],
   "source": [
    "# Getting the value counts for the movies with different length\n",
    "\n",
    "movies_grouped_by_length = movies.groupby('length').count()\n",
    "movies_grouped_by_length['film_id'].sort_index(ascending=False)"
   ]
  },
  {
   "cell_type": "code",
   "execution_count": 151,
   "metadata": {},
   "outputs": [
    {
     "data": {
      "text/html": [
       "<div>\n",
       "<style scoped>\n",
       "    .dataframe tbody tr th:only-of-type {\n",
       "        vertical-align: middle;\n",
       "    }\n",
       "\n",
       "    .dataframe tbody tr th {\n",
       "        vertical-align: top;\n",
       "    }\n",
       "\n",
       "    .dataframe thead th {\n",
       "        text-align: right;\n",
       "    }\n",
       "</style>\n",
       "<table border=\"1\" class=\"dataframe\">\n",
       "  <thead>\n",
       "    <tr style=\"text-align: right;\">\n",
       "      <th></th>\n",
       "      <th>title</th>\n",
       "      <th>length</th>\n",
       "    </tr>\n",
       "  </thead>\n",
       "  <tbody>\n",
       "    <tr>\n",
       "      <th>348</th>\n",
       "      <td>Gangs Pride</td>\n",
       "      <td>185</td>\n",
       "    </tr>\n",
       "    <tr>\n",
       "      <th>181</th>\n",
       "      <td>Control Anthem</td>\n",
       "      <td>185</td>\n",
       "    </tr>\n",
       "    <tr>\n",
       "      <th>608</th>\n",
       "      <td>Muscle Bright</td>\n",
       "      <td>185</td>\n",
       "    </tr>\n",
       "    <tr>\n",
       "      <th>425</th>\n",
       "      <td>Home Pity</td>\n",
       "      <td>185</td>\n",
       "    </tr>\n",
       "    <tr>\n",
       "      <th>816</th>\n",
       "      <td>Soldiers Evolution</td>\n",
       "      <td>185</td>\n",
       "    </tr>\n",
       "    <tr>\n",
       "      <th>211</th>\n",
       "      <td>Darn Forrester</td>\n",
       "      <td>185</td>\n",
       "    </tr>\n",
       "    <tr>\n",
       "      <th>990</th>\n",
       "      <td>Worst Banger</td>\n",
       "      <td>185</td>\n",
       "    </tr>\n",
       "    <tr>\n",
       "      <th>871</th>\n",
       "      <td>Sweet Brotherhood</td>\n",
       "      <td>185</td>\n",
       "    </tr>\n",
       "    <tr>\n",
       "      <th>689</th>\n",
       "      <td>Pond Seattle</td>\n",
       "      <td>185</td>\n",
       "    </tr>\n",
       "    <tr>\n",
       "      <th>140</th>\n",
       "      <td>Chicago North</td>\n",
       "      <td>185</td>\n",
       "    </tr>\n",
       "  </tbody>\n",
       "</table>\n",
       "</div>"
      ],
      "text/plain": [
       "                  title  length\n",
       "348         Gangs Pride     185\n",
       "181      Control Anthem     185\n",
       "608       Muscle Bright     185\n",
       "425           Home Pity     185\n",
       "816  Soldiers Evolution     185\n",
       "211      Darn Forrester     185\n",
       "990        Worst Banger     185\n",
       "871   Sweet Brotherhood     185\n",
       "689        Pond Seattle     185\n",
       "140       Chicago North     185"
      ]
     },
     "execution_count": 151,
     "metadata": {},
     "output_type": "execute_result"
    }
   ],
   "source": [
    "# Getting the titles of the 10 longest movies\n",
    "\n",
    "movies[['title', 'length']].sort_values(by='length', ascending=False).head(10)"
   ]
  },
  {
   "cell_type": "code",
   "execution_count": 146,
   "metadata": {},
   "outputs": [
    {
     "data": {
      "text/plain": [
       "release_year\n",
       "2006    1000\n",
       "Name: count, dtype: int64"
      ]
     },
     "execution_count": 146,
     "metadata": {},
     "output_type": "execute_result"
    }
   ],
   "source": [
    "# Getting the value count for the distribution of the release years\n",
    "\n",
    "movies['release_year'].value_counts().sort_values(ascending=False)"
   ]
  },
  {
   "cell_type": "code",
   "execution_count": 147,
   "metadata": {},
   "outputs": [
    {
     "data": {
      "text/plain": [
       "category   rating\n",
       "Action     G         18\n",
       "           R         14\n",
       "           NC-17     12\n",
       "           PG-13     11\n",
       "           PG         9\n",
       "Animation  PG-13     19\n",
       "           NC-17     15\n",
       "           G         13\n",
       "           PG        11\n",
       "           R          8\n",
       "Children   PG        15\n",
       "           PG-13     14\n",
       "           NC-17     12\n",
       "           G         10\n",
       "           R          9\n",
       "Classics   R         14\n",
       "           PG-13     13\n",
       "           G         11\n",
       "           PG        10\n",
       "           NC-17      9\n",
       "Name: count, dtype: int64"
      ]
     },
     "execution_count": 147,
     "metadata": {},
     "output_type": "execute_result"
    }
   ],
   "source": [
    "# Getting the count of each rating in the different film categories\n",
    "\n",
    "movies_grouped_by_category = movies.groupby('category')\n",
    "movies_grouped_by_category['rating'].value_counts().head(20)"
   ]
  },
  {
   "cell_type": "code",
   "execution_count": 30,
   "metadata": {},
   "outputs": [
    {
     "name": "stderr",
     "output_type": "stream",
     "text": [
      "C:\\Users\\tepip\\AppData\\Local\\Temp\\ipykernel_11828\\3783422505.py:3: UserWarning: pandas only supports SQLAlchemy connectable (engine/connection) or database string URI or sqlite3 DBAPI2 connection. Other DBAPI2 objects are not tested. Please consider using SQLAlchemy.\n",
      "  rentals = pd.read_sql('''SELECT r.rental_id, r.rental_date, p.payment_id, p.amount, p.payment_date,\n"
     ]
    }
   ],
   "source": [
    "# Creating a dataframe containing information about rentals, payment amount and customers\n",
    "\n",
    "rentals = pd.read_sql('''SELECT r.rental_id, r.rental_date, p.payment_id, p.amount, p.payment_date,\n",
    "                      c.customer_id, c.full_name, c.active\n",
    "                      FROM rental_cleaned r\n",
    "                      INNER JOIN payment_cleaned p\n",
    "                      ON r.rental_id = p.rental_id\n",
    "                      INNER JOIN customer_cleaned c\n",
    "                      ON c.customer_id = r.customer_ID;''', conn)"
   ]
  },
  {
   "cell_type": "code",
   "execution_count": 31,
   "metadata": {},
   "outputs": [
    {
     "data": {
      "text/plain": [
       "(14596, 8)"
      ]
     },
     "execution_count": 31,
     "metadata": {},
     "output_type": "execute_result"
    }
   ],
   "source": [
    "rentals.shape"
   ]
  },
  {
   "cell_type": "code",
   "execution_count": 32,
   "metadata": {},
   "outputs": [
    {
     "name": "stdout",
     "output_type": "stream",
     "text": [
      "<class 'pandas.core.frame.DataFrame'>\n",
      "RangeIndex: 14596 entries, 0 to 14595\n",
      "Data columns (total 8 columns):\n",
      " #   Column        Non-Null Count  Dtype         \n",
      "---  ------        --------------  -----         \n",
      " 0   rental_id     14596 non-null  int64         \n",
      " 1   rental_date   14596 non-null  datetime64[ns]\n",
      " 2   payment_id    14596 non-null  int64         \n",
      " 3   amount        14596 non-null  float64       \n",
      " 4   payment_date  14596 non-null  datetime64[ns]\n",
      " 5   customer_id   14596 non-null  int64         \n",
      " 6   full_name     14596 non-null  object        \n",
      " 7   active        14596 non-null  int64         \n",
      "dtypes: datetime64[ns](2), float64(1), int64(4), object(1)\n",
      "memory usage: 912.4+ KB\n"
     ]
    }
   ],
   "source": [
    "rentals.info()"
   ]
  },
  {
   "cell_type": "code",
   "execution_count": 33,
   "metadata": {},
   "outputs": [
    {
     "data": {
      "text/html": [
       "<div>\n",
       "<style scoped>\n",
       "    .dataframe tbody tr th:only-of-type {\n",
       "        vertical-align: middle;\n",
       "    }\n",
       "\n",
       "    .dataframe tbody tr th {\n",
       "        vertical-align: top;\n",
       "    }\n",
       "\n",
       "    .dataframe thead th {\n",
       "        text-align: right;\n",
       "    }\n",
       "</style>\n",
       "<table border=\"1\" class=\"dataframe\">\n",
       "  <thead>\n",
       "    <tr style=\"text-align: right;\">\n",
       "      <th></th>\n",
       "      <th>rental_id</th>\n",
       "      <th>rental_date</th>\n",
       "      <th>payment_id</th>\n",
       "      <th>amount</th>\n",
       "      <th>payment_date</th>\n",
       "      <th>customer_id</th>\n",
       "      <th>full_name</th>\n",
       "      <th>active</th>\n",
       "    </tr>\n",
       "  </thead>\n",
       "  <tbody>\n",
       "    <tr>\n",
       "      <th>0</th>\n",
       "      <td>1520</td>\n",
       "      <td>2005-06-15 23:57:20</td>\n",
       "      <td>17503</td>\n",
       "      <td>7.99</td>\n",
       "      <td>2007-02-15 22:25:46.996577</td>\n",
       "      <td>341</td>\n",
       "      <td>Peter Menard</td>\n",
       "      <td>1</td>\n",
       "    </tr>\n",
       "    <tr>\n",
       "      <th>1</th>\n",
       "      <td>1778</td>\n",
       "      <td>2005-06-16 18:54:48</td>\n",
       "      <td>17504</td>\n",
       "      <td>1.99</td>\n",
       "      <td>2007-02-16 17:23:14.996577</td>\n",
       "      <td>341</td>\n",
       "      <td>Peter Menard</td>\n",
       "      <td>1</td>\n",
       "    </tr>\n",
       "    <tr>\n",
       "      <th>2</th>\n",
       "      <td>1849</td>\n",
       "      <td>2005-06-17 00:13:19</td>\n",
       "      <td>17505</td>\n",
       "      <td>7.99</td>\n",
       "      <td>2007-02-16 22:41:45.996577</td>\n",
       "      <td>341</td>\n",
       "      <td>Peter Menard</td>\n",
       "      <td>1</td>\n",
       "    </tr>\n",
       "    <tr>\n",
       "      <th>3</th>\n",
       "      <td>2829</td>\n",
       "      <td>2005-06-19 21:11:30</td>\n",
       "      <td>17506</td>\n",
       "      <td>2.99</td>\n",
       "      <td>2007-02-19 19:39:56.996577</td>\n",
       "      <td>341</td>\n",
       "      <td>Peter Menard</td>\n",
       "      <td>1</td>\n",
       "    </tr>\n",
       "    <tr>\n",
       "      <th>4</th>\n",
       "      <td>3130</td>\n",
       "      <td>2005-06-20 19:03:22</td>\n",
       "      <td>17507</td>\n",
       "      <td>7.99</td>\n",
       "      <td>2007-02-20 17:31:48.996577</td>\n",
       "      <td>341</td>\n",
       "      <td>Peter Menard</td>\n",
       "      <td>1</td>\n",
       "    </tr>\n",
       "  </tbody>\n",
       "</table>\n",
       "</div>"
      ],
      "text/plain": [
       "   rental_id         rental_date  payment_id  amount  \\\n",
       "0       1520 2005-06-15 23:57:20       17503    7.99   \n",
       "1       1778 2005-06-16 18:54:48       17504    1.99   \n",
       "2       1849 2005-06-17 00:13:19       17505    7.99   \n",
       "3       2829 2005-06-19 21:11:30       17506    2.99   \n",
       "4       3130 2005-06-20 19:03:22       17507    7.99   \n",
       "\n",
       "                payment_date  customer_id     full_name  active  \n",
       "0 2007-02-15 22:25:46.996577          341  Peter Menard       1  \n",
       "1 2007-02-16 17:23:14.996577          341  Peter Menard       1  \n",
       "2 2007-02-16 22:41:45.996577          341  Peter Menard       1  \n",
       "3 2007-02-19 19:39:56.996577          341  Peter Menard       1  \n",
       "4 2007-02-20 17:31:48.996577          341  Peter Menard       1  "
      ]
     },
     "execution_count": 33,
     "metadata": {},
     "output_type": "execute_result"
    }
   ],
   "source": [
    "rentals.head()"
   ]
  },
  {
   "cell_type": "code",
   "execution_count": 34,
   "metadata": {},
   "outputs": [
    {
     "data": {
      "text/plain": [
       "rental_id       0\n",
       "rental_date     0\n",
       "payment_id      0\n",
       "amount          0\n",
       "payment_date    0\n",
       "customer_id     0\n",
       "full_name       0\n",
       "active          0\n",
       "dtype: int64"
      ]
     },
     "execution_count": 34,
     "metadata": {},
     "output_type": "execute_result"
    }
   ],
   "source": [
    "rentals.isnull().sum()"
   ]
  },
  {
   "cell_type": "code",
   "execution_count": 152,
   "metadata": {},
   "outputs": [
    {
     "data": {
      "text/plain": [
       "14592"
      ]
     },
     "execution_count": 152,
     "metadata": {},
     "output_type": "execute_result"
    }
   ],
   "source": [
    "rentals['rental_id'].nunique()"
   ]
  },
  {
   "cell_type": "code",
   "execution_count": 153,
   "metadata": {},
   "outputs": [
    {
     "data": {
      "text/plain": [
       "14596"
      ]
     },
     "execution_count": 153,
     "metadata": {},
     "output_type": "execute_result"
    }
   ],
   "source": [
    "rentals['payment_id'].nunique()"
   ]
  },
  {
   "cell_type": "code",
   "execution_count": 35,
   "metadata": {},
   "outputs": [
    {
     "data": {
      "text/plain": [
       "count    14596.000000\n",
       "mean         4.200606\n",
       "std          2.368946\n",
       "min          0.000000\n",
       "25%          2.990000\n",
       "50%          3.990000\n",
       "75%          4.990000\n",
       "max         11.990000\n",
       "Name: amount, dtype: float64"
      ]
     },
     "execution_count": 35,
     "metadata": {},
     "output_type": "execute_result"
    }
   ],
   "source": [
    "# Getting the descriptive statistics for the columns containing number values\n",
    "\n",
    "rentals['amount'].describe()"
   ]
  },
  {
   "cell_type": "code",
   "execution_count": 36,
   "metadata": {},
   "outputs": [
    {
     "data": {
      "text/plain": [
       "599"
      ]
     },
     "execution_count": 36,
     "metadata": {},
     "output_type": "execute_result"
    }
   ],
   "source": [
    "# Getting the number of unique customers who placed a rental\n",
    "\n",
    "rentals['customer_id'].nunique()"
   ]
  },
  {
   "cell_type": "code",
   "execution_count": 89,
   "metadata": {},
   "outputs": [
    {
     "data": {
      "text/plain": [
       "amount\n",
       "0.00       24\n",
       "0.99     2720\n",
       "1.98        1\n",
       "1.99      580\n",
       "2.99     3233\n",
       "3.98        8\n",
       "3.99      988\n",
       "4.99     3424\n",
       "5.98        7\n",
       "5.99     1188\n",
       "6.99     1017\n",
       "7.98        5\n",
       "7.99      621\n",
       "8.97        1\n",
       "8.99      438\n",
       "9.98        1\n",
       "9.99      233\n",
       "10.99      99\n",
       "11.99       8\n",
       "Name: rental_id, dtype: int64"
      ]
     },
     "execution_count": 89,
     "metadata": {},
     "output_type": "execute_result"
    }
   ],
   "source": [
    "# Getting the number of payments grouped by payment amount\n",
    "\n",
    "rentals_grouped_by_amount = rentals.groupby('amount').count().sort_index(ascending=True)\n",
    "rentals_grouped_by_amount['rental_id']\n"
   ]
  },
  {
   "cell_type": "code",
   "execution_count": 92,
   "metadata": {},
   "outputs": [
    {
     "data": {
      "text/plain": [
       "'Between 2005-06-14 and 2006-02-14'"
      ]
     },
     "execution_count": 92,
     "metadata": {},
     "output_type": "execute_result"
    }
   ],
   "source": [
    "# Getting the timespan between the first and the last rental date\n",
    "\n",
    "rental_date = 'Between ' + str(rentals['rental_date'].dt.date.min()) + ' and ' + str(rentals['rental_date'].dt.date.max())\n",
    "rental_date"
   ]
  },
  {
   "cell_type": "code",
   "execution_count": 93,
   "metadata": {},
   "outputs": [
    {
     "data": {
      "text/plain": [
       "'Between 2007-02-14 and 2007-05-14'"
      ]
     },
     "execution_count": 93,
     "metadata": {},
     "output_type": "execute_result"
    }
   ],
   "source": [
    "# Getting the timespan between the first and the last payment date\n",
    "\n",
    "payment_date = 'Between ' + str(rentals['payment_date'].dt.date.min()) + ' and ' + str(rentals['payment_date'].dt.date.max())\n",
    "payment_date"
   ]
  },
  {
   "cell_type": "code",
   "execution_count": 20,
   "metadata": {},
   "outputs": [
    {
     "name": "stderr",
     "output_type": "stream",
     "text": [
      "C:\\Users\\tepip\\AppData\\Local\\Temp\\ipykernel_11828\\4159386412.py:3: UserWarning: pandas only supports SQLAlchemy connectable (engine/connection) or database string URI or sqlite3 DBAPI2 connection. Other DBAPI2 objects are not tested. Please consider using SQLAlchemy.\n",
      "  customers = pd.read_sql('''SELECT c.customer_id, c.full_name, c.email, c.address_id, c.activebool, c.active, ci.city, co.country\n"
     ]
    }
   ],
   "source": [
    "# Creating a dataframe containing customer details\n",
    "\n",
    "customers = pd.read_sql('''SELECT c.customer_id, c.full_name, c.email, c.address_id, c.activebool, c.active, ci.city, co.country\n",
    "                        FROM customer_cleaned c\n",
    "                        INNER JOIN address_cleaned a\n",
    "                        ON a.address_id = c.address_id\n",
    "                        INNER JOIN city_cleaned ci\n",
    "                        ON ci.city_id = a.city_id\n",
    "                        INNER JOIN country_cleaned co\n",
    "                        ON co.country_id = ci.country_id\n",
    "                        ;''', conn)"
   ]
  },
  {
   "cell_type": "code",
   "execution_count": 21,
   "metadata": {},
   "outputs": [
    {
     "data": {
      "text/html": [
       "<div>\n",
       "<style scoped>\n",
       "    .dataframe tbody tr th:only-of-type {\n",
       "        vertical-align: middle;\n",
       "    }\n",
       "\n",
       "    .dataframe tbody tr th {\n",
       "        vertical-align: top;\n",
       "    }\n",
       "\n",
       "    .dataframe thead th {\n",
       "        text-align: right;\n",
       "    }\n",
       "</style>\n",
       "<table border=\"1\" class=\"dataframe\">\n",
       "  <thead>\n",
       "    <tr style=\"text-align: right;\">\n",
       "      <th></th>\n",
       "      <th>customer_id</th>\n",
       "      <th>full_name</th>\n",
       "      <th>email</th>\n",
       "      <th>address_id</th>\n",
       "      <th>activebool</th>\n",
       "      <th>active</th>\n",
       "      <th>city</th>\n",
       "      <th>country</th>\n",
       "    </tr>\n",
       "  </thead>\n",
       "  <tbody>\n",
       "    <tr>\n",
       "      <th>0</th>\n",
       "      <td>524</td>\n",
       "      <td>Jared Ely</td>\n",
       "      <td>jared.ely@sakilacustomer.org</td>\n",
       "      <td>530</td>\n",
       "      <td>True</td>\n",
       "      <td>1</td>\n",
       "      <td>Purwakarta</td>\n",
       "      <td>Indonesia</td>\n",
       "    </tr>\n",
       "    <tr>\n",
       "      <th>1</th>\n",
       "      <td>1</td>\n",
       "      <td>Mary Smith</td>\n",
       "      <td>mary.smith@sakilacustomer.org</td>\n",
       "      <td>5</td>\n",
       "      <td>True</td>\n",
       "      <td>1</td>\n",
       "      <td>Sasebo</td>\n",
       "      <td>Japan</td>\n",
       "    </tr>\n",
       "    <tr>\n",
       "      <th>2</th>\n",
       "      <td>2</td>\n",
       "      <td>Patricia Johnson</td>\n",
       "      <td>patricia.johnson@sakilacustomer.org</td>\n",
       "      <td>6</td>\n",
       "      <td>True</td>\n",
       "      <td>1</td>\n",
       "      <td>San Bernardino</td>\n",
       "      <td>United States</td>\n",
       "    </tr>\n",
       "    <tr>\n",
       "      <th>3</th>\n",
       "      <td>3</td>\n",
       "      <td>Linda Williams</td>\n",
       "      <td>linda.williams@sakilacustomer.org</td>\n",
       "      <td>7</td>\n",
       "      <td>True</td>\n",
       "      <td>1</td>\n",
       "      <td>Athenai</td>\n",
       "      <td>Greece</td>\n",
       "    </tr>\n",
       "    <tr>\n",
       "      <th>4</th>\n",
       "      <td>4</td>\n",
       "      <td>Barbara Jones</td>\n",
       "      <td>barbara.jones@sakilacustomer.org</td>\n",
       "      <td>8</td>\n",
       "      <td>True</td>\n",
       "      <td>1</td>\n",
       "      <td>Myingyan</td>\n",
       "      <td>Myanmar</td>\n",
       "    </tr>\n",
       "  </tbody>\n",
       "</table>\n",
       "</div>"
      ],
      "text/plain": [
       "   customer_id         full_name                                email  \\\n",
       "0          524         Jared Ely         jared.ely@sakilacustomer.org   \n",
       "1            1        Mary Smith        mary.smith@sakilacustomer.org   \n",
       "2            2  Patricia Johnson  patricia.johnson@sakilacustomer.org   \n",
       "3            3    Linda Williams    linda.williams@sakilacustomer.org   \n",
       "4            4     Barbara Jones     barbara.jones@sakilacustomer.org   \n",
       "\n",
       "   address_id  activebool  active            city        country  \n",
       "0         530        True       1      Purwakarta      Indonesia  \n",
       "1           5        True       1          Sasebo          Japan  \n",
       "2           6        True       1  San Bernardino  United States  \n",
       "3           7        True       1         Athenai         Greece  \n",
       "4           8        True       1        Myingyan        Myanmar  "
      ]
     },
     "execution_count": 21,
     "metadata": {},
     "output_type": "execute_result"
    }
   ],
   "source": [
    "customers.head()"
   ]
  },
  {
   "cell_type": "code",
   "execution_count": 154,
   "metadata": {},
   "outputs": [
    {
     "data": {
      "text/plain": [
       "599"
      ]
     },
     "execution_count": 154,
     "metadata": {},
     "output_type": "execute_result"
    }
   ],
   "source": [
    "customers['customer_id'].nunique()"
   ]
  },
  {
   "cell_type": "code",
   "execution_count": 22,
   "metadata": {},
   "outputs": [
    {
     "data": {
      "text/plain": [
       "(599, 8)"
      ]
     },
     "execution_count": 22,
     "metadata": {},
     "output_type": "execute_result"
    }
   ],
   "source": [
    "customers.shape"
   ]
  },
  {
   "cell_type": "code",
   "execution_count": 23,
   "metadata": {},
   "outputs": [
    {
     "name": "stdout",
     "output_type": "stream",
     "text": [
      "<class 'pandas.core.frame.DataFrame'>\n",
      "RangeIndex: 599 entries, 0 to 598\n",
      "Data columns (total 8 columns):\n",
      " #   Column       Non-Null Count  Dtype \n",
      "---  ------       --------------  ----- \n",
      " 0   customer_id  599 non-null    int64 \n",
      " 1   full_name    599 non-null    object\n",
      " 2   email        599 non-null    object\n",
      " 3   address_id   599 non-null    int64 \n",
      " 4   activebool   599 non-null    bool  \n",
      " 5   active       599 non-null    int64 \n",
      " 6   city         599 non-null    object\n",
      " 7   country      599 non-null    object\n",
      "dtypes: bool(1), int64(3), object(4)\n",
      "memory usage: 33.5+ KB\n"
     ]
    }
   ],
   "source": [
    "customers.info()"
   ]
  },
  {
   "cell_type": "code",
   "execution_count": 24,
   "metadata": {},
   "outputs": [
    {
     "data": {
      "text/plain": [
       "customer_id    0\n",
       "full_name      0\n",
       "email          0\n",
       "address_id     0\n",
       "activebool     0\n",
       "active         0\n",
       "city           0\n",
       "country        0\n",
       "dtype: int64"
      ]
     },
     "execution_count": 24,
     "metadata": {},
     "output_type": "execute_result"
    }
   ],
   "source": [
    "customers.isnull().sum()"
   ]
  },
  {
   "cell_type": "code",
   "execution_count": 25,
   "metadata": {},
   "outputs": [
    {
     "data": {
      "text/plain": [
       "active\n",
       "1    584\n",
       "0     15\n",
       "Name: count, dtype: int64"
      ]
     },
     "execution_count": 25,
     "metadata": {},
     "output_type": "execute_result"
    }
   ],
   "source": [
    "# Getting the value count for the active and inactive customers\n",
    "\n",
    "customers['active'].value_counts().sort_values(ascending=False)"
   ]
  },
  {
   "cell_type": "code",
   "execution_count": 79,
   "metadata": {},
   "outputs": [
    {
     "data": {
      "text/plain": [
       "2.5"
      ]
     },
     "execution_count": 79,
     "metadata": {},
     "output_type": "execute_result"
    }
   ],
   "source": [
    "# Getting the percentage of the inactive customers/total number of customers\n",
    "\n",
    "ratio = (customers['active'].value_counts()[0]/customers.shape[0]) * 100\n",
    "round(ratio, 2)"
   ]
  },
  {
   "cell_type": "code",
   "execution_count": 26,
   "metadata": {},
   "outputs": [
    {
     "data": {
      "text/plain": [
       "city\n",
       "London          2\n",
       "Aurora          2\n",
       "Witten          1\n",
       "Kurashiki       1\n",
       "Kaduna          1\n",
       "               ..\n",
       "Szkesfehrvr     1\n",
       "Garden Grove    1\n",
       "Jining          1\n",
       "Jinzhou         1\n",
       "Tieli           1\n",
       "Name: count, Length: 597, dtype: int64"
      ]
     },
     "execution_count": 26,
     "metadata": {},
     "output_type": "execute_result"
    }
   ],
   "source": [
    "# Getting the value count for how many customers live in each city\n",
    "\n",
    "customers['city'].value_counts().sort_values(ascending=False)"
   ]
  },
  {
   "cell_type": "code",
   "execution_count": 27,
   "metadata": {},
   "outputs": [
    {
     "data": {
      "text/plain": [
       "country\n",
       "India            60\n",
       "China            53\n",
       "United States    36\n",
       "Japan            31\n",
       "Mexico           30\n",
       "                 ..\n",
       "Chad              1\n",
       "Lithuania         1\n",
       "Iraq              1\n",
       "Bahrain           1\n",
       "Hungary           1\n",
       "Name: count, Length: 108, dtype: int64"
      ]
     },
     "execution_count": 27,
     "metadata": {},
     "output_type": "execute_result"
    }
   ],
   "source": [
    "# Getting the value count for how many customers live in each country\n",
    "\n",
    "customers['country'].value_counts().sort_values(ascending=False)"
   ]
  },
  {
   "cell_type": "code",
   "execution_count": 157,
   "metadata": {},
   "outputs": [
    {
     "name": "stderr",
     "output_type": "stream",
     "text": [
      "C:\\Users\\tepip\\AppData\\Local\\Temp\\ipykernel_11828\\3921919229.py:3: UserWarning: pandas only supports SQLAlchemy connectable (engine/connection) or database string URI or sqlite3 DBAPI2 connection. Other DBAPI2 objects are not tested. Please consider using SQLAlchemy.\n",
      "  actors = pd.read_sql('''SELECT a.actor_id, a.full_name, f.film_id, f.title\n"
     ]
    }
   ],
   "source": [
    "# Creating a dataframe about films and actors\n",
    "\n",
    "actors = pd.read_sql('''SELECT a.actor_id, a.full_name, f.film_id, f.title\n",
    "                     FROM actor_cleaned a\n",
    "                     INNER JOIN film_actor_cleaned fa\n",
    "                     ON a.actor_id = fa.actor_id\n",
    "                     INNER JOIN film_cleaned f\n",
    "                     ON f.film_id = fa.film_id''', conn)"
   ]
  },
  {
   "cell_type": "code",
   "execution_count": 165,
   "metadata": {},
   "outputs": [
    {
     "data": {
      "text/html": [
       "<div>\n",
       "<style scoped>\n",
       "    .dataframe tbody tr th:only-of-type {\n",
       "        vertical-align: middle;\n",
       "    }\n",
       "\n",
       "    .dataframe tbody tr th {\n",
       "        vertical-align: top;\n",
       "    }\n",
       "\n",
       "    .dataframe thead th {\n",
       "        text-align: right;\n",
       "    }\n",
       "</style>\n",
       "<table border=\"1\" class=\"dataframe\">\n",
       "  <thead>\n",
       "    <tr style=\"text-align: right;\">\n",
       "      <th></th>\n",
       "      <th>actor_id</th>\n",
       "      <th>full_name</th>\n",
       "      <th>film_id</th>\n",
       "      <th>title</th>\n",
       "    </tr>\n",
       "  </thead>\n",
       "  <tbody>\n",
       "    <tr>\n",
       "      <th>0</th>\n",
       "      <td>1</td>\n",
       "      <td>Penelope Guiness</td>\n",
       "      <td>1</td>\n",
       "      <td>Academy Dinosaur</td>\n",
       "    </tr>\n",
       "    <tr>\n",
       "      <th>1</th>\n",
       "      <td>1</td>\n",
       "      <td>Penelope Guiness</td>\n",
       "      <td>23</td>\n",
       "      <td>Anaconda Confessions</td>\n",
       "    </tr>\n",
       "    <tr>\n",
       "      <th>2</th>\n",
       "      <td>1</td>\n",
       "      <td>Penelope Guiness</td>\n",
       "      <td>25</td>\n",
       "      <td>Angels Life</td>\n",
       "    </tr>\n",
       "    <tr>\n",
       "      <th>3</th>\n",
       "      <td>1</td>\n",
       "      <td>Penelope Guiness</td>\n",
       "      <td>106</td>\n",
       "      <td>Bulworth Commandments</td>\n",
       "    </tr>\n",
       "    <tr>\n",
       "      <th>4</th>\n",
       "      <td>1</td>\n",
       "      <td>Penelope Guiness</td>\n",
       "      <td>140</td>\n",
       "      <td>Cheaper Clyde</td>\n",
       "    </tr>\n",
       "    <tr>\n",
       "      <th>5</th>\n",
       "      <td>1</td>\n",
       "      <td>Penelope Guiness</td>\n",
       "      <td>166</td>\n",
       "      <td>Color Philadelphia</td>\n",
       "    </tr>\n",
       "    <tr>\n",
       "      <th>6</th>\n",
       "      <td>1</td>\n",
       "      <td>Penelope Guiness</td>\n",
       "      <td>277</td>\n",
       "      <td>Elephant Trojan</td>\n",
       "    </tr>\n",
       "    <tr>\n",
       "      <th>7</th>\n",
       "      <td>1</td>\n",
       "      <td>Penelope Guiness</td>\n",
       "      <td>361</td>\n",
       "      <td>Gleaming Jawbreaker</td>\n",
       "    </tr>\n",
       "    <tr>\n",
       "      <th>8</th>\n",
       "      <td>1</td>\n",
       "      <td>Penelope Guiness</td>\n",
       "      <td>438</td>\n",
       "      <td>Human Graffiti</td>\n",
       "    </tr>\n",
       "    <tr>\n",
       "      <th>9</th>\n",
       "      <td>1</td>\n",
       "      <td>Penelope Guiness</td>\n",
       "      <td>499</td>\n",
       "      <td>King Evolution</td>\n",
       "    </tr>\n",
       "  </tbody>\n",
       "</table>\n",
       "</div>"
      ],
      "text/plain": [
       "   actor_id         full_name  film_id                  title\n",
       "0         1  Penelope Guiness        1       Academy Dinosaur\n",
       "1         1  Penelope Guiness       23   Anaconda Confessions\n",
       "2         1  Penelope Guiness       25            Angels Life\n",
       "3         1  Penelope Guiness      106  Bulworth Commandments\n",
       "4         1  Penelope Guiness      140          Cheaper Clyde\n",
       "5         1  Penelope Guiness      166     Color Philadelphia\n",
       "6         1  Penelope Guiness      277        Elephant Trojan\n",
       "7         1  Penelope Guiness      361    Gleaming Jawbreaker\n",
       "8         1  Penelope Guiness      438         Human Graffiti\n",
       "9         1  Penelope Guiness      499         King Evolution"
      ]
     },
     "execution_count": 165,
     "metadata": {},
     "output_type": "execute_result"
    }
   ],
   "source": [
    "actors.head(10)"
   ]
  },
  {
   "cell_type": "code",
   "execution_count": 160,
   "metadata": {},
   "outputs": [
    {
     "data": {
      "text/plain": [
       "200"
      ]
     },
     "execution_count": 160,
     "metadata": {},
     "output_type": "execute_result"
    }
   ],
   "source": [
    "actors['actor_id'].nunique()"
   ]
  },
  {
   "cell_type": "code",
   "execution_count": 161,
   "metadata": {},
   "outputs": [
    {
     "data": {
      "text/plain": [
       "997"
      ]
     },
     "execution_count": 161,
     "metadata": {},
     "output_type": "execute_result"
    }
   ],
   "source": [
    "actors['film_id'].nunique()"
   ]
  },
  {
   "cell_type": "code",
   "execution_count": 164,
   "metadata": {},
   "outputs": [
    {
     "data": {
      "text/plain": [
       "actor_id     0\n",
       "full_name    0\n",
       "film_id      0\n",
       "title        0\n",
       "dtype: int64"
      ]
     },
     "execution_count": 164,
     "metadata": {},
     "output_type": "execute_result"
    }
   ],
   "source": [
    "actors.isnull().sum()"
   ]
  },
  {
   "cell_type": "code",
   "execution_count": 166,
   "metadata": {},
   "outputs": [
    {
     "name": "stdout",
     "output_type": "stream",
     "text": [
      "<class 'pandas.core.frame.DataFrame'>\n",
      "RangeIndex: 5462 entries, 0 to 5461\n",
      "Data columns (total 4 columns):\n",
      " #   Column     Non-Null Count  Dtype \n",
      "---  ------     --------------  ----- \n",
      " 0   actor_id   5462 non-null   int64 \n",
      " 1   full_name  5462 non-null   object\n",
      " 2   film_id    5462 non-null   int64 \n",
      " 3   title      5462 non-null   object\n",
      "dtypes: int64(2), object(2)\n",
      "memory usage: 170.8+ KB\n"
     ]
    }
   ],
   "source": [
    "actors.info()"
   ]
  },
  {
   "cell_type": "code",
   "execution_count": 176,
   "metadata": {},
   "outputs": [
    {
     "data": {
      "text/plain": [
       "full_name\n",
       "Susan Davis       54\n",
       "Gina Degeneres    42\n",
       "Walter Torn       41\n",
       "Mary Keitel       40\n",
       "Matthew Carrey    39\n",
       "Name: film_id, dtype: int64"
      ]
     },
     "execution_count": 176,
     "metadata": {},
     "output_type": "execute_result"
    }
   ],
   "source": [
    "# Getting the top 5 actors who had the most appearances in the movies\n",
    "\n",
    "group_by_actor = actors.groupby(by='full_name').count()\n",
    "group_by_actor.sort_values(by='film_id', ascending=False)['film_id'].head(5)\n"
   ]
  },
  {
   "cell_type": "code",
   "execution_count": 182,
   "metadata": {},
   "outputs": [
    {
     "data": {
      "text/plain": [
       "title\n",
       "Lambs Cincinatti     15\n",
       "Crazy Home           13\n",
       "Random Go            13\n",
       "Boondock Ballroom    13\n",
       "Chitty Lock          13\n",
       "Mummy Creatures      13\n",
       "Dracula Crystal      13\n",
       "Name: actor_id, dtype: int64"
      ]
     },
     "execution_count": 182,
     "metadata": {},
     "output_type": "execute_result"
    }
   ],
   "source": [
    "# Getting the top 7 which had the most actor appearances in them\n",
    "\n",
    "group_by_film = actors.groupby(by='title').count()\n",
    "group_by_film.sort_values(by='actor_id', ascending=False)['actor_id'].head(7)"
   ]
  },
  {
   "cell_type": "code",
   "execution_count": 215,
   "metadata": {},
   "outputs": [
    {
     "name": "stderr",
     "output_type": "stream",
     "text": [
      "C:\\Users\\tepip\\AppData\\Local\\Temp\\ipykernel_11828\\4098418685.py:3: UserWarning: pandas only supports SQLAlchemy connectable (engine/connection) or database string URI or sqlite3 DBAPI2 connection. Other DBAPI2 objects are not tested. Please consider using SQLAlchemy.\n",
      "  movies_without_actors = pd.read_sql('''SELECT f.film_id, f.title, fa.film_id\n"
     ]
    }
   ],
   "source": [
    "# Getting the titles of the movies without any actors from the database appearing in them\n",
    "\n",
    "movies_without_actors = pd.read_sql('''SELECT f.film_id, f.title, fa.film_id\n",
    "                                    FROM film_cleaned f\n",
    "                                    LEFT JOIN film_actor_cleaned fa\n",
    "                                    ON f.film_id = fa.film_id''', conn)"
   ]
  },
  {
   "cell_type": "code",
   "execution_count": 216,
   "metadata": {},
   "outputs": [],
   "source": [
    "nan_mask = pd.isna(movies_without_actors).any(axis=1)\n",
    "movies_without_actors = movies_without_actors[nan_mask]"
   ]
  },
  {
   "cell_type": "code",
   "execution_count": 217,
   "metadata": {},
   "outputs": [
    {
     "data": {
      "text/plain": [
       "5462    Slacker Liaisons\n",
       "5463         Flight Lies\n",
       "5464    Drumline Cyclone\n",
       "Name: title, dtype: object"
      ]
     },
     "execution_count": 217,
     "metadata": {},
     "output_type": "execute_result"
    }
   ],
   "source": [
    "movies_without_actors['title']"
   ]
  },
  {
   "cell_type": "code",
   "execution_count": null,
   "metadata": {},
   "outputs": [],
   "source": []
  }
 ],
 "metadata": {
  "kernelspec": {
   "display_name": "Python 3",
   "language": "python",
   "name": "python3"
  },
  "language_info": {
   "codemirror_mode": {
    "name": "ipython",
    "version": 3
   },
   "file_extension": ".py",
   "mimetype": "text/x-python",
   "name": "python",
   "nbconvert_exporter": "python",
   "pygments_lexer": "ipython3",
   "version": "3.11.6"
  }
 },
 "nbformat": 4,
 "nbformat_minor": 2
}
