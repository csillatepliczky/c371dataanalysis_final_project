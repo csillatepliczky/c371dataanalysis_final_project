{
 "cells": [
  {
   "cell_type": "code",
   "execution_count": null,
   "metadata": {},
   "outputs": [],
   "source": [
    "import psycopg2 as pg2\n",
    "import pandas as pd"
   ]
  },
  {
   "cell_type": "code",
   "execution_count": null,
   "metadata": {},
   "outputs": [],
   "source": [
    "def connect_to_database(database, user, password):\n",
    "    try:\n",
    "        conn = pg2.connect(database=database, user=user, password=password)\n",
    "        cur = conn.cursor()\n",
    "        print('Successfully connected to the database')\n",
    "        return cur, conn\n",
    "    except Exception as error:\n",
    "        print(\"Error while connecting to PostgreSQL\", error)"
   ]
  },
  {
   "cell_type": "code",
   "execution_count": null,
   "metadata": {},
   "outputs": [],
   "source": [
    "# Initializing connection to the original and the new database\n"
    "\n",
    "cur1, conn1 = connect_to_database('dvdrental', 'postgres', 'root')\n",
    "cur2, conn2 = connect_to_database('dvdrental_cleaned', 'postgres', 'root')"
   ]
  },
  {
   "cell_type": "code",
   "execution_count": null,
   "metadata": {},
   "outputs": [],
   "source": [
    "# Loading all the tables into a dataframe\n",
    "\n",
    "address = pd.read_sql('SELECT address_id, address, address2, district, city_id, postal_code, phone FROM address', conn1)"
   ]
  },
  {
   "cell_type": "code",
   "execution_count": null,
   "metadata": {},
   "outputs": [],
   "source": [
    "actor = pd.read_sql('SELECT actor_id, first_name, last_name FROM actor', conn1)"
   ]
  },
  {
   "cell_type": "code",
   "execution_count": null,
   "metadata": {},
   "outputs": [],
   "source": [
    "customer = pd.read_sql('SELECT customer_id, first_name, last_name, email, address_id, activebool, active FROM customer', conn1)"
   ]
  },
  {
   "cell_type": "code",
   "execution_count": null,
   "metadata": {},
   "outputs": [],
   "source": [
    "inventory = pd.read_sql('SELECT inventory_id, film_id FROM inventory', conn1)"
   ]
  },
  {
   "cell_type": "code",
   "execution_count": null,
   "metadata": {},
   "outputs": [],
   "source": [
    "city = pd.read_sql('SELECT city_id, city, country_id FROM city', conn1)"
   ]
  },
  {
   "cell_type": "code",
   "execution_count": null,
   "metadata": {},
   "outputs": [],
   "source": [
    "country = pd.read_sql('SELECT country_id, country FROM country', conn1)"
   ]
  },
  {
   "cell_type": "code",
   "execution_count": null,
   "metadata": {},
   "outputs": [],
   "source": [
    "film_category = pd.read_sql('SELECT category_id, film_id FROM film_category', conn1)"
   ]
  },
  {
   "cell_type": "code",
   "execution_count": null,
   "metadata": {},
   "outputs": [],
   "source": [
    "film_actor = pd.read_sql('SELECT actor_id, film_id FROM film_actor', conn1)"
   ]
  },
  {
   "cell_type": "code",
   "execution_count": null,
   "metadata": {},
   "outputs": [],
   "source": [
    "language = pd.read_sql('SELECT language_id, name FROM language', conn1)"
   ]
  },
  {
   "cell_type": "code",
   "execution_count": null,
   "metadata": {},
   "outputs": [],
   "source": [
    "rental = pd.read_sql('SELECT rental_id, rental_date, inventory_id, customer_id FROM rental', conn1)"
   ]
  },
  {
   "cell_type": "code",
   "execution_count": null,
   "metadata": {},
   "outputs": [],
   "source": [
    "payment = pd.read_sql('SELECT payment_id, customer_id, rental_id, amount, payment_date FROM payment', conn1)"
   ]
  },
  {
   "cell_type": "code",
   "execution_count": null,
   "metadata": {},
   "outputs": [],
   "source": [
    "category = pd.read_sql('SELECT category_id, name FROM category', conn1)"
   ]
  },
  {
   "cell_type": "code",
   "execution_count": null,
   "metadata": {},
   "outputs": [],
   "source": [
    "film = pd.read_sql('SELECT film_id, title, description, release_year, language_id, rental_duration, rental_rate, length, replacement_cost, rating FROM film', conn1)"
   ]
  },
  {
   "cell_type": "code",
   "execution_count": null,
   "metadata": {},
   "outputs": [],
   "source": [
    "# Define data cleaning functions\n",
    "\n",
    "class CleanData:\n",
    "    def __init__(self, df):\n",
    "        self.df = df\n",
    "\n",
    "    def strip_whitespaces(self):\n",
    "        for col in self.df.columns:\n",
    "            if self.df[col].dtype == 'object':\n",
    "                self.df[col].str.strip()\n",
    "        return self.df\n",
    "    \n",
    "    def replace_nans(self):\n",
    "        for col in self.df.columns:\n",
    "            if self.df[col].dtype in ['float64', 'int64']:\n",
    "                self.df[col] = self.df[col].fillna(0)\n",
    "        return self.df\n",
    "    \n",
    "    def create_full_name(self):\n",
    "        if set(['first_name','last_name']).issubset(self.df.columns):\n",
    "            self.df['full_name'] = self.df['first_name'] + ' ' + self.df['last_name']\n",
    "            self.df = self.df.drop(columns='first_name')\n",
    "            self.df = self.df.drop(columns='last_name')\n",
    "        return self.df\n",
    "    \n",
    "    def extract_from_date(self, datecol):\n",
    "        self.df['year'] = pd.DatetimeIndex(self.df[datecol]).year\n",
    "        self.df['month'] = pd.DatetimeIndex(self.df[datecol]).month\n",
    "        self.df['day'] = pd.DatetimeIndex(self.df[datecol]).day\n",
    "        return self.df"
   ]
  },
  {
   "cell_type": "code",
   "execution_count": null,
   "metadata": {},
   "outputs": [],
   "source": [
    "# Cleaning and saving the city table into the new database\n",
    "\n",
    "cd_city = CleanData(city)\n",
    "city = cd_city.replace_nans()\n",
    "city = cd_city.strip_whitespaces()\n",
    "\n",
    "for i in range(0 ,len(city)):\n",
    "    values = (int(city['city_id'][i]), city['city'][i], int(city['country_id'][i]))\n",
    "    cur2.execute(\"INSERT INTO city_cleaned VALUES (%s, %s, %s)\",\n",
    "                values)\n",
    "\n",
    "conn2.commit()"
   ]
  },
  {
   "cell_type": "code",
   "execution_count": null,
   "metadata": {},
   "outputs": [],
   "source": [
    "# Cleaning and saving the country table into the new database\n",
    "\n",
    "cd_country = CleanData(country)\n",
    "country = cd_country.replace_nans()\n",
    "country = cd_country.strip_whitespaces()\n",
    "\n",
    "for i in range(0 ,len(country)):\n",
    "    values = (int(country['country_id'][i]), country['country'][i])\n",
    "    cur2.execute(\"INSERT INTO country_cleaned VALUES (%s, %s)\",\n",
    "                values)\n",
    "\n",
    "conn2.commit()"
   ]
  },
  {
   "cell_type": "code",
   "execution_count": null,
   "metadata": {},
   "outputs": [],
   "source": [
    "# Cleaning and saving the film and category table into the new database\n",
    "\n",
    "cd_film_category = CleanData(film_category)\n",
    "film_category = cd_film_category.replace_nans()\n",
    "film_category = cd_film_category.strip_whitespaces()\n",
    "\n",
    "for i in range(0 ,len(film_category)):\n",
    "    values = (int(film_category['category_id'][i]), int(film_category['film_id'][i]))\n",
    "    cur2.execute(\"INSERT INTO film_category_cleaned VALUES (%s, %s)\",\n",
    "                values)\n",
    "\n",
    "conn2.commit()"
   ]
  },
  {
   "cell_type": "code",
   "execution_count": null,
   "metadata": {},
   "outputs": [],
   "source": [
    "# Cleaning and saving the film and actor table into the new database\n",
    "\n",
    "cd_film_actor = CleanData(film_actor)\n",
    "film_actor = cd_film_actor.replace_nans()\n",
    "film_actor = cd_film_actor.strip_whitespaces()\n",
    "\n",
    "for i in range(0 ,len(film_actor)):\n",
    "    values = (int(film_actor['actor_id'][i]), int(film_actor['film_id'][i]))\n",
    "    cur2.execute(\"INSERT INTO film_actor_cleaned VALUES (%s, %s)\",\n",
    "                values)\n",
    "\n",
    "conn2.commit()"
   ]
  },
  {
   "cell_type": "code",
   "execution_count": null,
   "metadata": {},
   "outputs": [],
   "source": [
    "# Cleaning and saving the address table into the new database\n",
    "\n",
    "cd_address = CleanData(address)\n",
    "address = cd_address.replace_nans()\n",
    "address = cd_address.strip_whitespaces()\n",
    "\n",
    "for i in range(0 ,len(address)):\n",
    "    values = (int(address['address_id'][i]), address['address'][i], address['address2'][i], address['district'][i], int(address['city_id'][i]), int(address['postal_code'][i]), address['phone'][i])\n",
    "    cur2.execute(\"INSERT INTO address_cleaned VALUES (%s, %s, %s, %s, %s, %s, %s)\",\n",
    "                values)\n",
    "\n",
    "conn2.commit()"
   ]
  },
  {
   "cell_type": "code",
   "execution_count": null,
   "metadata": {},
   "outputs": [],
   "source": [
    "# Cleaning and saving the customer table into the new database\n",
    "\n",
    "cd_customer = CleanData(customer)\n",
    "customer = cd_customer.replace_nans()\n",
    "customer = cd_customer.strip_whitespaces()\n",
    "customer = cd_customer.create_full_name()\n",
    "\n",
    "for i in range(0 ,len(customer)):\n",
    "    values = (int(customer['customer_id'][i]), customer['full_name'][i], customer['email'][i], int(customer['address_id'][i]), bool(customer['activebool'][i]), int(customer['active'][i]))\n",
    "    cur2.execute(\"INSERT INTO customer_cleaned VALUES (%s, %s, %s, %s, %s, %s)\",\n",
    "                values)\n",
    "\n",
    "conn2.commit()"
   ]
  },
  {
   "cell_type": "code",
   "execution_count": null,
   "metadata": {},
   "outputs": [],
   "source": [
    "# Cleaning and saving the language table into the new database\n",
    "\n",
    "cd_language = CleanData(language)\n",
    "language = cd_language.replace_nans()\n",
    "language = cd_language.strip_whitespaces()\n",
    "\n",
    "for i in range(0 ,len(language)):\n",
    "    values = (int(language['language_id'][i]), language['name'][i])\n",
    "    cur2.execute(\"INSERT INTO language_cleaned VALUES (%s, %s)\",\n",
    "                values)\n",
    "\n",
    "conn2.commit()"
   ]
  },
  {
   "cell_type": "code",
   "execution_count": null,
   "metadata": {},
   "outputs": [],
   "source": [
    "# Cleaning and saving the rental table into the new database\n",
    "\n",
    "cd_rental = CleanData(rental)\n",
    "rental = cd_rental.replace_nans()\n",
    "rental = cd_rental.strip_whitespaces()\n",
    "rental = cd_rental.extract_from_date('rental_date')\n",
    "\n",
    "for i in range(0 ,len(rental)):\n",
    "    values = (int(rental['rental_id'][i]), rental['rental_date'][i], int(rental['year'][i]), int(rental['month'][i]), int(rental['day'][i]), int(rental['customer_id'][i]), int(rental['inventory_id'][i]))\n",
    "    cur2.execute(\"INSERT INTO rental_cleaned VALUES (%s, %s, %s, %s, %s, %s, %s)\",\n",
    "                values)\n",
    "\n",
    "conn2.commit()"
   ]
  },
  {
   "cell_type": "code",
   "execution_count": null,
   "metadata": {},
   "outputs": [],
   "source": [
    "# Cleaning and saving the payment table into the new database\n",
    "\n",
    "cd_payment = CleanData(payment)\n",
    "payment = cd_payment.replace_nans()\n",
    "payment = cd_payment.strip_whitespaces()\n",
    "payment = cd_payment.extract_from_date('payment_date')\n",
    "\n",
    "for i in range(0 ,len(payment)):\n",
    "    values = (int(payment['payment_id'][i]), int(payment['customer_id'][i]), int(payment['rental_id'][i]), float(payment['amount'][i]), payment['payment_date'][i], int(payment['year'][i]), int(payment['month'][i]), int(payment['day'][i]))\n",
    "    cur2.execute(\"INSERT INTO payment_cleaned VALUES (%s, %s, %s, %s, %s, %s, %s, %s)\",\n",
    "                values)\n",
    "\n",
    "conn2.commit()"
   ]
  },
  {
   "cell_type": "code",
   "execution_count": null,
   "metadata": {},
   "outputs": [],
   "source": [
    "# Cleaning and saving the category table into the new database\n",
    "\n",
    "cd_category = CleanData(category)\n",
    "category = cd_category.replace_nans()\n",
    "category= cd_category.strip_whitespaces()\n",
    "\n",
    "for i in range(0 ,len(category)):\n",
    "    values = (int(category['category_id'][i]), category['name'][i])\n",
    "    cur2.execute(\"INSERT INTO category_cleaned VALUES (%s, %s)\",\n",
    "                values)\n",
    "\n",
    "conn2.commit()"
   ]
  },
  {
   "cell_type": "code",
   "execution_count": null,
   "metadata": {},
   "outputs": [],
   "source": [
    "# Cleaning and saving the actor table into the new database\n",
    "\n",
    "cd_actor = CleanData(actor)\n",
    "actor = cd_actor.replace_nans()\n",
    "actor = cd_actor.strip_whitespaces()\n",
    "actor = cd_actor.create_full_name()\n",
    "\n",
    "for i in range(0 ,len(actor)):\n",
    "    values = (int(actor['actor_id'][i]), actor['full_name'][i])\n",
    "    cur2.execute(\"INSERT INTO actor_cleaned VALUES (%s, %s)\",\n",
    "                values)\n",
    "\n",
    "conn2.commit()"
   ]
  },
  {
   "cell_type": "code",
   "execution_count": null,
   "metadata": {},
   "outputs": [],
   "source": [
    "# Cleaning and saving the inventory table into the new database\n",
    "\n",
    "cd_inventory = CleanData(inventory)\n",
    "inventory = cd_inventory.replace_nans()\n",
    "inventory = cd_inventory.strip_whitespaces()\n",
    "\n",
    "for i in range(0 ,len(inventory)):\n",
    "    values = (int(inventory['inventory_id'][i]), int(inventory['film_id'][i]))\n",
    "    cur2.execute(\"INSERT INTO inventory_cleaned VALUES (%s, %s)\",\n",
    "                values)\n",
    "\n",
    "conn2.commit()"
   ]
  },
  {
   "cell_type": "code",
   "execution_count": null,
   "metadata": {},
   "outputs": [],
   "source": [
    "# Cleaning and saving the film table into the new database\n",
    "\n",
    "cd_film = CleanData(film)\n",
    "film = cd_film.replace_nans()\n",
    "film = cd_film.strip_whitespaces()\n",
    "\n",
    "for i in range(0 ,len(film)):\n",
    "    values = (int(film['film_id'][i]), film['title'][i], film['description'][i], int(film['release_year'][i]), int(film['language_id'][i]), int(film['rental_duration'][i]), float(film['rental_rate'][i]), int(film['length'][i]), float(film['replacement_cost'][i]), film['rating'][i])\n",
    "    cur2.execute(\"INSERT INTO film_cleaned VALUES (%s, %s, %s, %s, %s, %s, %s, %s, %s, %s)\",\n",
    "                values)\n",
    "\n",
    "conn2.commit()"
   ]
  },
  {
   "cell_type": "code",
   "execution_count": null,
   "metadata": {},
   "outputs": [],
   "source": [
    "conn1.close()\n",
    "conn2.close()"
   ]
  }
 ],
 "metadata": {
  "kernelspec": {
   "display_name": "Python 3",
   "language": "python",
   "name": "python3"
  },
  "language_info": {
   "codemirror_mode": {
    "name": "ipython",
    "version": 3
   },
   "file_extension": ".py",
   "mimetype": "text/x-python",
   "name": "python",
   "nbconvert_exporter": "python",
   "pygments_lexer": "ipython3",
   "version": "3.11.6"
  }
 },
 "nbformat": 4,
 "nbformat_minor": 2
}
